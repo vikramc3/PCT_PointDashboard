{
 "cells": [
  {
   "cell_type": "code",
   "execution_count": 1,
   "metadata": {},
   "outputs": [],
   "source": [
    "import pandas as pd"
   ]
  },
  {
   "cell_type": "code",
   "execution_count": 4,
   "metadata": {},
   "outputs": [
    {
     "data": {
      "text/html": [
       "<div>\n",
       "<style scoped>\n",
       "    .dataframe tbody tr th:only-of-type {\n",
       "        vertical-align: middle;\n",
       "    }\n",
       "\n",
       "    .dataframe tbody tr th {\n",
       "        vertical-align: top;\n",
       "    }\n",
       "\n",
       "    .dataframe thead th {\n",
       "        text-align: right;\n",
       "    }\n",
       "</style>\n",
       "<table border=\"1\" class=\"dataframe\">\n",
       "  <thead>\n",
       "    <tr style=\"text-align: right;\">\n",
       "      <th></th>\n",
       "      <th>member_name</th>\n",
       "    </tr>\n",
       "  </thead>\n",
       "  <tbody>\n",
       "    <tr>\n",
       "      <th>0</th>\n",
       "      <td>Aakash Prajapati</td>\n",
       "    </tr>\n",
       "    <tr>\n",
       "      <th>1</th>\n",
       "      <td>Aalya Masud</td>\n",
       "    </tr>\n",
       "    <tr>\n",
       "      <th>2</th>\n",
       "      <td>Adan Somarriba</td>\n",
       "    </tr>\n",
       "    <tr>\n",
       "      <th>3</th>\n",
       "      <td>Aditya Thewarkar</td>\n",
       "    </tr>\n",
       "    <tr>\n",
       "      <th>4</th>\n",
       "      <td>Aidan Siegel</td>\n",
       "    </tr>\n",
       "    <tr>\n",
       "      <th>...</th>\n",
       "      <td>...</td>\n",
       "    </tr>\n",
       "    <tr>\n",
       "      <th>121</th>\n",
       "      <td>Rachel Tseng</td>\n",
       "    </tr>\n",
       "    <tr>\n",
       "      <th>122</th>\n",
       "      <td>Rati Jen</td>\n",
       "    </tr>\n",
       "    <tr>\n",
       "      <th>123</th>\n",
       "      <td>Reva Bhatt</td>\n",
       "    </tr>\n",
       "    <tr>\n",
       "      <th>124</th>\n",
       "      <td>Sam Levine</td>\n",
       "    </tr>\n",
       "    <tr>\n",
       "      <th>125</th>\n",
       "      <td>Victor Samuel</td>\n",
       "    </tr>\n",
       "  </tbody>\n",
       "</table>\n",
       "<p>126 rows × 1 columns</p>\n",
       "</div>"
      ],
      "text/plain": [
       "          member_name\n",
       "0    Aakash Prajapati\n",
       "1         Aalya Masud\n",
       "2      Adan Somarriba\n",
       "3    Aditya Thewarkar\n",
       "4        Aidan Siegel\n",
       "..                ...\n",
       "121      Rachel Tseng\n",
       "122          Rati Jen\n",
       "123        Reva Bhatt\n",
       "124        Sam Levine\n",
       "125     Victor Samuel\n",
       "\n",
       "[126 rows x 1 columns]"
      ]
     },
     "execution_count": 4,
     "metadata": {},
     "output_type": "execute_result"
    }
   ],
   "source": [
    "df = pd.read_csv('MemberList.csv')\n",
    "df"
   ]
  },
  {
   "cell_type": "code",
   "execution_count": 5,
   "metadata": {},
   "outputs": [],
   "source": [
    "result = ', '.join(df['member_name'].astype(str))\n"
   ]
  },
  {
   "cell_type": "code",
   "execution_count": 6,
   "metadata": {},
   "outputs": [
    {
     "data": {
      "text/plain": [
       "'Aakash Prajapati, Aalya Masud, Adan Somarriba, Aditya Thewarkar, Aidan Siegel, Aiman Naqvi, Alex Lie, Andrew Leon, Angie Huang, Anika Brahmbhatt, Anuj Patel, Anvita Ganugapati, Ari Edwards, Armaan Patel, Armaan Rehmani, Ashley Mandujano, Atharv Vasisht, Austin Kennedy, Avery Monacella, Ayush Shastry, Bernard Jones, Brandon Schnack, Caitlin Johnson, Cian Mitchell, Connor Brown, David Sulnius, Dayanara Gonzalez, Declan Dolan, Deeya Patel, Dennis Koukounaras, Dhwani Patel, Dylan Subramanian, Elizabeth Kercher, Emmanuel Cardenas, Eshaan Qasim, Gabriela Sandschafer, Gary Mei, Gautham Shankar, Gizelle Salumbidez, Hannah Kim, Isar Saxena, Ishaan Bhandari, Iva Scekic, Jack Upfold, Jacob Breitman, James Biernacki, Jason Lo, Jeremiah Lee, Jessica Shade, Jessica Lozano Guajardo, Josh Steinfink, Juan Campa, Justin Ly, Kaile Yang, Khayla Hood, Kinsey Kelch, Lathanial Wells, Leah Nella, Lillian Folkl, Marco Aranda, Megha Ravishankar, Meliha Aycicek, Michael Milanowski, Mika Menon, Mlaah Singh, Monisa Yusra, Muhammad Ali Rizvi, Natalia Kosciarz, Natalie Wietzema, Nithya Koneru, Oha Yejekwe, Phil Edat, Rian Patel, Rishabh Shah, Rishi Mahadevan, Roshni Shah, Ryan Miller, Ryan Gao, Sam Blaker, Sana Shaik, Saul Torres, Sebastian Paz, Sneha Mohan, Snehal Rairikar, Sourish Potdar, Stivan Dobrev, Sulay Ahmed, Swetha Yegappan, Talia Bromberg, Tyrese Fikes, Vielka Munoz, Vikram Chandramouli, Yuktha Sureshkumar, Zach Holland, Zikora Okonkwo, Ajay Raut, Alex Fern, Andrea Torelli, Ashlee Tran, Ashley Leon, Charles Pechman, Charlie Meyer, Christopher Boukalis, Daniel Lagunas, Danny Myers, Devin Patel, Eiman Mohammedamin, Emilia Giagrande, Faris Siddiqui, Francisco Gomez, Ibraheem Khan, Isabella Gomez, Isha Rao, Jack Curnyn, James Bretzlaff, John Economy, John Peterson, Joshua Lyles, Kavya Patel, Max Dodrill, Nick Corso, Rachel Tseng, Rati Jen, Reva Bhatt, Sam Levine, Victor Samuel'"
      ]
     },
     "execution_count": 6,
     "metadata": {},
     "output_type": "execute_result"
    }
   ],
   "source": [
    "result"
   ]
  },
  {
   "cell_type": "code",
   "execution_count": 7,
   "metadata": {},
   "outputs": [
    {
     "name": "stdout",
     "output_type": "stream",
     "text": [
      "Aakash Prajapati, Aalya Masud, Adan Somarriba, Aditya Thewarkar, Aidan Siegel, Aiman Naqvi, Alex Lie, Andrew Leon, Angie Huang, Anika Brahmbhatt, Anuj Patel, Anvita Ganugapati, Ari Edwards, Armaan Patel, Armaan Rehmani, Ashley Mandujano, Atharv Vasisht, Austin Kennedy, Avery Monacella, Ayush Shastry, Bernard Jones, Brandon Schnack, Caitlin Johnson, Cian Mitchell, Connor Brown, David Sulnius, Dayanara Gonzalez, Declan Dolan, Deeya Patel, Dennis Koukounaras, Dhwani Patel, Dylan Subramanian, Elizabeth Kercher, Emmanuel Cardenas, Eshaan Qasim, Gabriela Sandschafer, Gary Mei, Gautham Shankar, Gizelle Salumbidez, Hannah Kim, Isar Saxena, Ishaan Bhandari, Iva Scekic, Jack Upfold, Jacob Breitman, James Biernacki, Jason Lo, Jeremiah Lee, Jessica Shade, Jessica Lozano Guajardo, Josh Steinfink, Juan Campa, Justin Ly, Kaile Yang, Khayla Hood, Kinsey Kelch, Lathanial Wells, Leah Nella, Lillian Folkl, Marco Aranda, Megha Ravishankar, Meliha Aycicek, Michael Milanowski, Mika Menon, Mlaah Singh, Monisa Yusra, Muhammad Ali Rizvi, Natalia Kosciarz, Natalie Wietzema, Nithya Koneru, Oha Yejekwe, Phil Edat, Rian Patel, Rishabh Shah, Rishi Mahadevan, Roshni Shah, Ryan Miller, Ryan Gao, Sam Blaker, Sana Shaik, Saul Torres, Sebastian Paz, Sneha Mohan, Snehal Rairikar, Sourish Potdar, Stivan Dobrev, Sulay Ahmed, Swetha Yegappan, Talia Bromberg, Tyrese Fikes, Vielka Munoz, Vikram Chandramouli, Yuktha Sureshkumar, Zach Holland, Zikora Okonkwo, Ajay Raut, Alex Fern, Andrea Torelli, Ashlee Tran, Ashley Leon, Charles Pechman, Charlie Meyer, Christopher Boukalis, Daniel Lagunas, Danny Myers, Devin Patel, Eiman Mohammedamin, Emilia Giagrande, Faris Siddiqui, Francisco Gomez, Ibraheem Khan, Isabella Gomez, Isha Rao, Jack Curnyn, James Bretzlaff, John Economy, John Peterson, Joshua Lyles, Kavya Patel, Max Dodrill, Nick Corso, Rachel Tseng, Rati Jen, Reva Bhatt, Sam Levine, Victor Samuel\n"
     ]
    }
   ],
   "source": [
    "print(result)\n"
   ]
  },
  {
   "cell_type": "code",
   "execution_count": null,
   "metadata": {},
   "outputs": [],
   "source": []
  }
 ],
 "metadata": {
  "kernelspec": {
   "display_name": "venv",
   "language": "python",
   "name": "python3"
  },
  "language_info": {
   "codemirror_mode": {
    "name": "ipython",
    "version": 3
   },
   "file_extension": ".py",
   "mimetype": "text/x-python",
   "name": "python",
   "nbconvert_exporter": "python",
   "pygments_lexer": "ipython3",
   "version": "3.9.7"
  }
 },
 "nbformat": 4,
 "nbformat_minor": 2
}
